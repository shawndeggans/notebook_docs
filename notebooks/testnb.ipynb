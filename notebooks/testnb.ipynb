{
 "cells": [
  {
   "cell_type": "markdown",
   "metadata": {},
   "source": [
    "# Import cleaning process\n",
    "\n",
    "The following notebook is part of our import cleaning process.\n",
    "This notebook accomplishes the following:\n",
    "- Imports a CSV file\n",
    "- Removes extra columns\n",
    "- Converts strings to correct data types\n",
    "- Saves in the cleansed directory"
   ]
  },
  {
   "cell_type": "code",
   "execution_count": null,
   "metadata": {},
   "outputs": [],
   "source": [
    "# Pip install\n",
    "%pip install pandas\n",
    "\n",
    "# Here we would import libraries\n",
    "import sys\n",
    "import pandas as pd\n"
   ]
  },
  {
   "cell_type": "markdown",
   "metadata": {},
   "source": [
    "## Import file from raw data folder\n",
    "Here we import the file from the raw folder"
   ]
  },
  {
   "cell_type": "code",
   "execution_count": null,
   "metadata": {},
   "outputs": [],
   "source": [
    "# Pseudo code for opening a file, importing a CSV, and loading it into pandas\n",
    "\n",
    "# Define the file path\n",
    "file_path = 'path/to/your/csvfile.csv'\n",
    "\n",
    "# Use pandas to read the CSV file\n",
    "df = pd.read_csv(file_path)\n",
    "\n",
    "# Display the first few rows of the dataframe\n",
    "print(df.head())"
   ]
  },
  {
   "cell_type": "markdown",
   "metadata": {},
   "source": [
    "## Removes extra columns\n",
    "Removing the address and phone fields"
   ]
  },
  {
   "cell_type": "code",
   "execution_count": null,
   "metadata": {},
   "outputs": [],
   "source": [
    "# BEGIN: Remove extra columns\n",
    "\n",
    "# List of columns to remove\n",
    "columns_to_remove = ['address', 'phone']\n",
    "\n",
    "# Remove the specified columns\n",
    "df_cleaned = df.drop(columns=columns_to_remove)\n",
    "\n",
    "# Display the first few rows of the cleaned dataframe\n",
    "print(df_cleaned.head())\n",
    "\n",
    "# END: Remove extra columns"
   ]
  },
  {
   "cell_type": "markdown",
   "metadata": {},
   "source": [
    "## Set data types\n",
    "Sets the correct datatypes for date and identity fields."
   ]
  },
  {
   "cell_type": "code",
   "execution_count": null,
   "metadata": {},
   "outputs": [],
   "source": [
    "# Pseudo code for setting data types\n",
    "\n",
    "# Convert the 'date_field' to datetime\n",
    "df_cleaned['date_field'] = pd.to_datetime(df_cleaned['date_field'])\n",
    "\n",
    "# Convert the 'identity_field' to numeric (integer)\n",
    "df_cleaned['identity_field'] = pd.to_numeric(df_cleaned['identity_field'], errors='coerce')\n",
    "\n",
    "# Display the data types of the dataframe to verify changes\n",
    "print(df_cleaned.dtypes)"
   ]
  },
  {
   "cell_type": "markdown",
   "metadata": {},
   "source": [
    "## Save new data to a cleansed directory\n",
    "Write the cleansed data from Pandas to a new CSV file in the cleansed folder"
   ]
  },
  {
   "cell_type": "code",
   "execution_count": null,
   "metadata": {},
   "outputs": [],
   "source": [
    "# Pseudo code to write the cleansed data to a new CSV file in the cleansed folder\n",
    "\n",
    "# Define the output file path\n",
    "output_file_path = 'path/to/cleansed/folder/cleansed_data.csv'\n",
    "\n",
    "# Use pandas to write the dataframe to a CSV file\n",
    "df_cleaned.to_csv(output_file_path, index=False)\n",
    "\n",
    "# Confirm the file has been written\n",
    "print(f\"Cleansed data has been written to {output_file_path}\")"
   ]
  }
 ],
 "metadata": {
  "kernelspec": {
   "display_name": ".venv",
   "language": "python",
   "name": "python3"
  },
  "language_info": {
   "name": "python",
   "version": "3.12.1"
  }
 },
 "nbformat": 4,
 "nbformat_minor": 2
}
